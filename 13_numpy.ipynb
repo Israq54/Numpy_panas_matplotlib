{
  "nbformat": 4,
  "nbformat_minor": 0,
  "metadata": {
    "colab": {
      "provenance": []
    },
    "kernelspec": {
      "name": "python3",
      "display_name": "Python 3"
    },
    "language_info": {
      "name": "python"
    }
  },
  "cells": [
    {
      "cell_type": "markdown",
      "source": [
        "# Dimentional Array"
      ],
      "metadata": {
        "id": "kSzcAiyl3Rrh"
      }
    },
    {
      "cell_type": "code",
      "execution_count": null,
      "metadata": {
        "colab": {
          "base_uri": "https://localhost:8080/"
        },
        "id": "cGSP25oD3GRO",
        "outputId": "182088b5-4ccb-4306-b50f-09979dbd11f3"
      },
      "outputs": [
        {
          "output_type": "stream",
          "name": "stdout",
          "text": [
            "[1 2 3]\n"
          ]
        }
      ],
      "source": [
        "import numpy as np\n",
        "a = np.array([1,2,3])\n",
        "print(a)"
      ]
    },
    {
      "cell_type": "markdown",
      "source": [
        "## 2 dimentional array"
      ],
      "metadata": {
        "id": "Vt4-Q7h8a31O"
      }
    },
    {
      "cell_type": "code",
      "source": [
        "import numpy as np\n",
        "b = np.array([[1,2,3],[4,5,6]])\n",
        "print(b)"
      ],
      "metadata": {
        "colab": {
          "base_uri": "https://localhost:8080/"
        },
        "id": "k_ZxU8AKa8Oy",
        "outputId": "99145db0-7346-4e26-8b22-e0aaa79b5f2a"
      },
      "execution_count": null,
      "outputs": [
        {
          "output_type": "stream",
          "name": "stdout",
          "text": [
            "[[1 2 3]\n",
            " [4 5 6]]\n"
          ]
        }
      ]
    },
    {
      "cell_type": "code",
      "source": [
        "a = np.array([1,2,3])\n",
        "b = np.array([4,5,6])\n",
        "c = np.sum([a,b],axis = 1)\n",
        "c"
      ],
      "metadata": {
        "colab": {
          "base_uri": "https://localhost:8080/"
        },
        "id": "o6eSLFaCKsow",
        "outputId": "341a99a7-9047-4d58-e56a-76e4cf669ab0"
      },
      "execution_count": null,
      "outputs": [
        {
          "output_type": "execute_result",
          "data": {
            "text/plain": [
              "array([ 6, 15])"
            ]
          },
          "metadata": {},
          "execution_count": 80
        }
      ]
    },
    {
      "cell_type": "code",
      "source": [
        "a = np.array([1,2,3])\n",
        "b = np.array([8,9,0])\n",
        "c = np.sum([a,b],axis = 0)\n",
        "print(c)"
      ],
      "metadata": {
        "colab": {
          "base_uri": "https://localhost:8080/"
        },
        "id": "Of1AwZ_wLdTO",
        "outputId": "074c1ae1-29c1-4976-ac0d-bd2ca8eae3a5"
      },
      "execution_count": null,
      "outputs": [
        {
          "output_type": "stream",
          "name": "stdout",
          "text": [
            "[ 9 11  3]\n"
          ]
        }
      ]
    },
    {
      "cell_type": "code",
      "source": [
        "print(np.exp(a))\n",
        "print(np.sqrt(b))\n",
        "print(np.sin(b))\n",
        "print(np.cos(b))"
      ],
      "metadata": {
        "colab": {
          "base_uri": "https://localhost:8080/"
        },
        "id": "RzBkaqGLL996",
        "outputId": "478136bf-bf1a-4765-f09c-c0da8fdda7f1"
      },
      "execution_count": null,
      "outputs": [
        {
          "output_type": "stream",
          "name": "stdout",
          "text": [
            "[ 2.71828183  7.3890561  20.08553692]\n",
            "[2.82842712 3.         0.        ]\n",
            "[0.98935825 0.41211849 0.        ]\n",
            "[-0.14550003 -0.91113026  1.        ]\n"
          ]
        }
      ]
    },
    {
      "cell_type": "code",
      "source": [
        "a = [1,2,4]\n",
        "b = [2,4,4]\n",
        "c = [1,2,4]\n",
        "np.equal(a,b)"
      ],
      "metadata": {
        "colab": {
          "base_uri": "https://localhost:8080/"
        },
        "id": "RXngDkCzMcWd",
        "outputId": "d065dea9-e2eb-4308-acdc-57465ad91600"
      },
      "execution_count": null,
      "outputs": [
        {
          "output_type": "execute_result",
          "data": {
            "text/plain": [
              "array([False, False,  True])"
            ]
          },
          "metadata": {},
          "execution_count": 83
        }
      ]
    },
    {
      "cell_type": "code",
      "source": [
        "a = [1,2,3]\n",
        "b = [5,6,7]\n",
        "c = [1,2,3]\n",
        "\n",
        "np.array_equal(a,c)"
      ],
      "metadata": {
        "colab": {
          "base_uri": "https://localhost:8080/"
        },
        "id": "qmNYEv1DMrgL",
        "outputId": "51dbecf0-606a-415b-8026-ad79095f5eff"
      },
      "execution_count": null,
      "outputs": [
        {
          "output_type": "execute_result",
          "data": {
            "text/plain": [
              "True"
            ]
          },
          "metadata": {},
          "execution_count": 84
        }
      ]
    },
    {
      "cell_type": "markdown",
      "source": [
        "## Initialize all the elements of x X y array to 0"
      ],
      "metadata": {
        "id": "vtbkd4ntb9Sn"
      }
    },
    {
      "cell_type": "code",
      "source": [
        "import numpy as np\n",
        "np.zeros((3,4))"
      ],
      "metadata": {
        "colab": {
          "base_uri": "https://localhost:8080/"
        },
        "id": "5cD3fDsOcE-T",
        "outputId": "b74bf6aa-2a8a-4645-977e-2fa00b533ab5"
      },
      "execution_count": null,
      "outputs": [
        {
          "output_type": "execute_result",
          "data": {
            "text/plain": [
              "array([[0., 0., 0., 0.],\n",
              "       [0., 0., 0., 0.],\n",
              "       [0., 0., 0., 0.]])"
            ]
          },
          "metadata": {},
          "execution_count": 85
        }
      ]
    },
    {
      "cell_type": "code",
      "source": [
        "import numpy as np\n",
        "np.ones((4,3))"
      ],
      "metadata": {
        "colab": {
          "base_uri": "https://localhost:8080/"
        },
        "id": "XFBwGSXUcLVl",
        "outputId": "3193ff15-2e94-4777-fdb3-a5f5d7b03b85"
      },
      "execution_count": null,
      "outputs": [
        {
          "output_type": "execute_result",
          "data": {
            "text/plain": [
              "array([[1., 1., 1.],\n",
              "       [1., 1., 1.],\n",
              "       [1., 1., 1.],\n",
              "       [1., 1., 1.]])"
            ]
          },
          "metadata": {},
          "execution_count": 86
        }
      ]
    },
    {
      "cell_type": "code",
      "source": [
        "import numpy as np\n",
        "np.full((3,4),1)"
      ],
      "metadata": {
        "colab": {
          "base_uri": "https://localhost:8080/"
        },
        "id": "M-mpZ47jcUoS",
        "outputId": "23bdc977-e253-4338-de44-dac536efbd0d"
      },
      "execution_count": null,
      "outputs": [
        {
          "output_type": "execute_result",
          "data": {
            "text/plain": [
              "array([[1, 1, 1, 1],\n",
              "       [1, 1, 1, 1],\n",
              "       [1, 1, 1, 1]])"
            ]
          },
          "metadata": {},
          "execution_count": 87
        }
      ]
    },
    {
      "cell_type": "code",
      "source": [
        "import numpy as np\n",
        "arr = np.zeros((4,3))"
      ],
      "metadata": {
        "id": "8l2xLWeVchJJ"
      },
      "execution_count": null,
      "outputs": []
    },
    {
      "cell_type": "code",
      "source": [
        "print(arr)"
      ],
      "metadata": {
        "colab": {
          "base_uri": "https://localhost:8080/"
        },
        "id": "r-82253ScnOh",
        "outputId": "09aab3ed-9c20-4bdd-e805-a99f22319fcc"
      },
      "execution_count": null,
      "outputs": [
        {
          "output_type": "stream",
          "name": "stdout",
          "text": [
            "[[0. 0. 0.]\n",
            " [0. 0. 0.]\n",
            " [0. 0. 0.]\n",
            " [0. 0. 0.]]\n"
          ]
        }
      ]
    },
    {
      "cell_type": "code",
      "source": [
        "import numpy as np\n",
        "np.arange(1,10,4)"
      ],
      "metadata": {
        "colab": {
          "base_uri": "https://localhost:8080/"
        },
        "id": "5hxtz7UfcrDU",
        "outputId": "94f05117-a79a-4004-9a86-3904cb17275e"
      },
      "execution_count": null,
      "outputs": [
        {
          "output_type": "execute_result",
          "data": {
            "text/plain": [
              "array([1, 5, 9])"
            ]
          },
          "metadata": {},
          "execution_count": 90
        }
      ]
    },
    {
      "cell_type": "code",
      "source": [
        "import numpy as np\n",
        "np.linspace(0,10,6)"
      ],
      "metadata": {
        "colab": {
          "base_uri": "https://localhost:8080/"
        },
        "id": "ImECtrhTc0Gj",
        "outputId": "872a95d9-588b-44e1-a4b6-3d6c4e4ce827"
      },
      "execution_count": null,
      "outputs": [
        {
          "output_type": "execute_result",
          "data": {
            "text/plain": [
              "array([ 0.,  2.,  4.,  6.,  8., 10.])"
            ]
          },
          "metadata": {},
          "execution_count": 91
        }
      ]
    },
    {
      "cell_type": "code",
      "source": [
        "import numpy as np\n",
        "arr = np.full((4,5),2.09)\n",
        "print(arr)"
      ],
      "metadata": {
        "colab": {
          "base_uri": "https://localhost:8080/"
        },
        "id": "47DbzELRdCCK",
        "outputId": "80fd300b-d907-46bd-9cc7-6c163cb515a2"
      },
      "execution_count": null,
      "outputs": [
        {
          "output_type": "stream",
          "name": "stdout",
          "text": [
            "[[2.09 2.09 2.09 2.09 2.09]\n",
            " [2.09 2.09 2.09 2.09 2.09]\n",
            " [2.09 2.09 2.09 2.09 2.09]\n",
            " [2.09 2.09 2.09 2.09 2.09]]\n"
          ]
        }
      ]
    },
    {
      "cell_type": "code",
      "source": [
        "import numpy as np\n",
        "zeros = np.zeros((4,5))\n",
        "zeros"
      ],
      "metadata": {
        "colab": {
          "base_uri": "https://localhost:8080/"
        },
        "id": "KZEXLlDIdPvO",
        "outputId": "cef2167c-4acb-4e77-ec06-7f49e4018f4b"
      },
      "execution_count": null,
      "outputs": [
        {
          "output_type": "execute_result",
          "data": {
            "text/plain": [
              "array([[0., 0., 0., 0., 0.],\n",
              "       [0., 0., 0., 0., 0.],\n",
              "       [0., 0., 0., 0., 0.],\n",
              "       [0., 0., 0., 0., 0.]])"
            ]
          },
          "metadata": {},
          "execution_count": 93
        }
      ]
    },
    {
      "cell_type": "code",
      "source": [
        "arr = np.full((4,3),8)\n",
        "arr"
      ],
      "metadata": {
        "colab": {
          "base_uri": "https://localhost:8080/"
        },
        "id": "HaV8N7YbdsoJ",
        "outputId": "bbc70e15-40b3-4bad-ed9c-41b1e3f8145a"
      },
      "execution_count": null,
      "outputs": [
        {
          "output_type": "execute_result",
          "data": {
            "text/plain": [
              "array([[8, 8, 8],\n",
              "       [8, 8, 8],\n",
              "       [8, 8, 8],\n",
              "       [8, 8, 8]])"
            ]
          },
          "metadata": {},
          "execution_count": 94
        }
      ]
    },
    {
      "cell_type": "code",
      "source": [
        "arr = np.linspace(0,1,5)\n",
        "arr"
      ],
      "metadata": {
        "colab": {
          "base_uri": "https://localhost:8080/"
        },
        "id": "Y8oPb7E5d0Tt",
        "outputId": "61e2a733-ddaf-45cf-a605-c4c97fb23fcc"
      },
      "execution_count": null,
      "outputs": [
        {
          "output_type": "execute_result",
          "data": {
            "text/plain": [
              "array([0.  , 0.25, 0.5 , 0.75, 1.  ])"
            ]
          },
          "metadata": {},
          "execution_count": 95
        }
      ]
    },
    {
      "cell_type": "code",
      "source": [
        "arr = np.arange(0,10,3)"
      ],
      "metadata": {
        "id": "CZTJI_XGeB9j"
      },
      "execution_count": null,
      "outputs": []
    },
    {
      "cell_type": "code",
      "source": [
        "s = np.array([[1,2,3,4],[2,3,4,5],[6,7,8,9]])\n",
        "print(s.shape)"
      ],
      "metadata": {
        "colab": {
          "base_uri": "https://localhost:8080/"
        },
        "id": "FRbS42fycaSh",
        "outputId": "4f341d1d-fff2-439a-eaae-028fffd36e80"
      },
      "execution_count": null,
      "outputs": [
        {
          "output_type": "stream",
          "name": "stdout",
          "text": [
            "(3, 4)\n"
          ]
        }
      ]
    },
    {
      "cell_type": "code",
      "source": [
        "a = np.array([[1,2],[2,3],[4,5]])\n",
        "print(a.shape)"
      ],
      "metadata": {
        "colab": {
          "base_uri": "https://localhost:8080/"
        },
        "id": "kB5NnvxyepgF",
        "outputId": "cfbae671-5a28-4647-967e-315506747ae7"
      },
      "execution_count": null,
      "outputs": [
        {
          "output_type": "stream",
          "name": "stdout",
          "text": [
            "(3, 2)\n"
          ]
        }
      ]
    },
    {
      "cell_type": "code",
      "source": [
        "i = np.array([[9,0],[0,0],[9,0,8]])\n",
        "print(i.shape)"
      ],
      "metadata": {
        "colab": {
          "base_uri": "https://localhost:8080/"
        },
        "id": "EHkiFzzmfLt-",
        "outputId": "4a0f8065-7d8b-421f-cbbc-f2d3c61cb023"
      },
      "execution_count": null,
      "outputs": [
        {
          "output_type": "stream",
          "name": "stdout",
          "text": [
            "(3,)\n"
          ]
        },
        {
          "output_type": "stream",
          "name": "stderr",
          "text": [
            "<ipython-input-99-0b190d5d4309>:1: VisibleDeprecationWarning: Creating an ndarray from ragged nested sequences (which is a list-or-tuple of lists-or-tuples-or ndarrays with different lengths or shapes) is deprecated. If you meant to do this, you must specify 'dtype=object' when creating the ndarray.\n",
            "  i = np.array([[9,0],[0,0],[9,0,8]])\n"
          ]
        }
      ]
    },
    {
      "cell_type": "markdown",
      "source": [
        "## Inspecting the array: resize the array"
      ],
      "metadata": {
        "id": "afjUoLHbpazL"
      }
    },
    {
      "cell_type": "code",
      "source": [
        "a = np.array([[2,3,4],[4,5,6]])\n",
        "a.shape = (3,2)\n",
        "print(a)"
      ],
      "metadata": {
        "colab": {
          "base_uri": "https://localhost:8080/"
        },
        "id": "aXvaDvu_pjtA",
        "outputId": "3f157b80-ef96-46df-c5e5-63dd055d17b6"
      },
      "execution_count": null,
      "outputs": [
        {
          "output_type": "stream",
          "name": "stdout",
          "text": [
            "[[2 3]\n",
            " [4 4]\n",
            " [5 6]]\n"
          ]
        }
      ]
    },
    {
      "cell_type": "code",
      "source": [
        "a.size"
      ],
      "metadata": {
        "colab": {
          "base_uri": "https://localhost:8080/"
        },
        "id": "dZIiJxGCygdZ",
        "outputId": "08453f81-b321-47ed-ec9b-04bc79bd9be8"
      },
      "execution_count": null,
      "outputs": [
        {
          "output_type": "execute_result",
          "data": {
            "text/plain": [
              "6"
            ]
          },
          "metadata": {},
          "execution_count": 101
        }
      ]
    },
    {
      "cell_type": "code",
      "source": [
        "a = np.array([[1,2,3]])"
      ],
      "metadata": {
        "id": "ElVqGzc7yu56"
      },
      "execution_count": null,
      "outputs": []
    },
    {
      "cell_type": "code",
      "source": [],
      "metadata": {
        "id": "lTlh2hXXE0uo"
      },
      "execution_count": null,
      "outputs": []
    },
    {
      "cell_type": "code",
      "source": [
        "print(a)\n",
        "print(b)"
      ],
      "metadata": {
        "colab": {
          "base_uri": "https://localhost:8080/"
        },
        "id": "Y61ryRdQFls6",
        "outputId": "a944504b-e75e-42b0-e750-0381b7ff6499"
      },
      "execution_count": null,
      "outputs": [
        {
          "output_type": "stream",
          "name": "stdout",
          "text": [
            "[[1 2 3]]\n",
            "[5, 6, 7]\n"
          ]
        }
      ]
    },
    {
      "cell_type": "markdown",
      "source": [
        "## Find the datatype of the array"
      ],
      "metadata": {
        "id": "YyZYcxE_gUKG"
      }
    },
    {
      "cell_type": "code",
      "source": [
        "a = np.arange(24, dtype=float)\n",
        "print(a)\n",
        "print(a.dtype)"
      ],
      "metadata": {
        "colab": {
          "base_uri": "https://localhost:8080/"
        },
        "id": "GjAeF9nKgW9h",
        "outputId": "857f6093-206c-4174-ca2f-4f67e3c60b89"
      },
      "execution_count": null,
      "outputs": [
        {
          "output_type": "stream",
          "name": "stdout",
          "text": [
            "[ 0.  1.  2.  3.  4.  5.  6.  7.  8.  9. 10. 11. 12. 13. 14. 15. 16. 17.\n",
            " 18. 19. 20. 21. 22. 23.]\n",
            "float64\n"
          ]
        }
      ]
    },
    {
      "cell_type": "markdown",
      "source": [
        "## Numpy array mathematics"
      ],
      "metadata": {
        "id": "oT8EqvGFgoR2"
      }
    },
    {
      "cell_type": "markdown",
      "source": [
        "## summation"
      ],
      "metadata": {
        "id": "BWMNJipcfLUv"
      }
    },
    {
      "cell_type": "code",
      "source": [
        "import numpy as np\n",
        "np.sum([10,20])"
      ],
      "metadata": {
        "colab": {
          "base_uri": "https://localhost:8080/"
        },
        "id": "9zGBXh9-fMrX",
        "outputId": "0ddb5624-1392-4eac-d004-b59229481ac2"
      },
      "execution_count": null,
      "outputs": [
        {
          "output_type": "execute_result",
          "data": {
            "text/plain": [
              "30"
            ]
          },
          "metadata": {},
          "execution_count": 106
        }
      ]
    },
    {
      "cell_type": "code",
      "source": [
        "a,b = 10,20\n",
        "np.sum([a,b])"
      ],
      "metadata": {
        "colab": {
          "base_uri": "https://localhost:8080/"
        },
        "id": "PBtc6vzqg1f-",
        "outputId": "35546c66-a19f-48e2-b487-90fbe2b61d0e"
      },
      "execution_count": null,
      "outputs": [
        {
          "output_type": "execute_result",
          "data": {
            "text/plain": [
              "30"
            ]
          },
          "metadata": {},
          "execution_count": 107
        }
      ]
    },
    {
      "cell_type": "code",
      "source": [
        "np.sum([[1,2],[5,6]], axis = 0)"
      ],
      "metadata": {
        "colab": {
          "base_uri": "https://localhost:8080/"
        },
        "id": "hWrHyAdqg-kT",
        "outputId": "629cbaf8-400c-4eac-db87-88d47d93a1ec"
      },
      "execution_count": null,
      "outputs": [
        {
          "output_type": "execute_result",
          "data": {
            "text/plain": [
              "array([6, 8])"
            ]
          },
          "metadata": {},
          "execution_count": 108
        }
      ]
    },
    {
      "cell_type": "code",
      "source": [
        "np.sum([[1,2],[5,6]], axis = 1)"
      ],
      "metadata": {
        "colab": {
          "base_uri": "https://localhost:8080/"
        },
        "id": "J7yJVrNkhHDz",
        "outputId": "c0a7c8c6-6012-4c1e-8146-9ea53d6ee19c"
      },
      "execution_count": null,
      "outputs": [
        {
          "output_type": "execute_result",
          "data": {
            "text/plain": [
              "array([ 3, 11])"
            ]
          },
          "metadata": {},
          "execution_count": 109
        }
      ]
    },
    {
      "cell_type": "code",
      "source": [
        "np.sum([[1,2],[5,6]])"
      ],
      "metadata": {
        "colab": {
          "base_uri": "https://localhost:8080/"
        },
        "id": "3E1YNOCBhPmO",
        "outputId": "4e25030e-8811-48a7-9d9b-293d9def8650"
      },
      "execution_count": null,
      "outputs": [
        {
          "output_type": "execute_result",
          "data": {
            "text/plain": [
              "14"
            ]
          },
          "metadata": {},
          "execution_count": 110
        }
      ]
    },
    {
      "cell_type": "markdown",
      "source": [
        "## Numpy array subtraction"
      ],
      "metadata": {
        "id": "Up7XTgHmhWkT"
      }
    },
    {
      "cell_type": "code",
      "source": [
        "np.subtract(10,20)"
      ],
      "metadata": {
        "colab": {
          "base_uri": "https://localhost:8080/"
        },
        "id": "rUQ7H0athY92",
        "outputId": "5e39e19c-a401-4a56-9d7f-8e1889cf2d19"
      },
      "execution_count": null,
      "outputs": [
        {
          "output_type": "execute_result",
          "data": {
            "text/plain": [
              "-10"
            ]
          },
          "metadata": {},
          "execution_count": 112
        }
      ]
    },
    {
      "cell_type": "markdown",
      "source": [
        "## all other mathematical function"
      ],
      "metadata": {
        "id": "RoTLH-FthkTS"
      }
    },
    {
      "cell_type": "code",
      "source": [
        "np.multiply(2,3)  #multiply two numbers"
      ],
      "metadata": {
        "colab": {
          "base_uri": "https://localhost:8080/"
        },
        "id": "da1VPoXFhnE6",
        "outputId": "28d501b1-c920-4d2b-b1d0-14179de4c6c6"
      },
      "execution_count": null,
      "outputs": [
        {
          "output_type": "execute_result",
          "data": {
            "text/plain": [
              "6"
            ]
          },
          "metadata": {},
          "execution_count": 113
        }
      ]
    },
    {
      "cell_type": "code",
      "source": [
        "np.divide(10,2)"
      ],
      "metadata": {
        "colab": {
          "base_uri": "https://localhost:8080/"
        },
        "id": "9mMv4kqChUF-",
        "outputId": "fa525803-70af-4cfe-ee37-c5f09d2449b2"
      },
      "execution_count": null,
      "outputs": [
        {
          "output_type": "execute_result",
          "data": {
            "text/plain": [
              "5.0"
            ]
          },
          "metadata": {},
          "execution_count": 115
        }
      ]
    },
    {
      "cell_type": "code",
      "source": [
        "a = np.array([2,4,6])\n",
        "b = np.array([1,2,3])\n",
        "np.multiply(a,b)"
      ],
      "metadata": {
        "colab": {
          "base_uri": "https://localhost:8080/"
        },
        "id": "2q12Jsxch0hd",
        "outputId": "74560166-10c4-46c0-ff13-ead9c51da522"
      },
      "execution_count": null,
      "outputs": [
        {
          "output_type": "execute_result",
          "data": {
            "text/plain": [
              "array([ 2,  8, 18])"
            ]
          },
          "metadata": {},
          "execution_count": 116
        }
      ]
    },
    {
      "cell_type": "code",
      "source": [
        "#exp,sqrt,sin,cos,log\n",
        "print(\"Exponent : \", np.exp(a))\n",
        "print(\"Square root : \", np.sqrt(a))\n",
        "print(\"sin : \", np.sin(a))\n",
        "print(\"cos : \", np.cos(a))"
      ],
      "metadata": {
        "colab": {
          "base_uri": "https://localhost:8080/"
        },
        "id": "R4ziMC5XiJ6A",
        "outputId": "9e0d215e-29c6-4dda-dff0-16b9faa4ec8f"
      },
      "execution_count": null,
      "outputs": [
        {
          "output_type": "stream",
          "name": "stdout",
          "text": [
            "Exponent :  [  7.3890561   54.59815003 403.42879349]\n",
            "Square root :  [1.41421356 2.         2.44948974]\n",
            "sin :  [ 0.90929743 -0.7568025  -0.2794155 ]\n",
            "cos :  [-0.41614684 -0.65364362  0.96017029]\n"
          ]
        }
      ]
    },
    {
      "cell_type": "markdown",
      "source": [
        "## Array comparision"
      ],
      "metadata": {
        "id": "DdirVZ-TrQq4"
      }
    },
    {
      "cell_type": "code",
      "source": [
        "a = [1,2,4]\n",
        "b = [2,4,4]\n",
        "c = [1,2,4]\n",
        "np.array_equal(a,c)\n",
        "np.equal(a,b)"
      ],
      "metadata": {
        "colab": {
          "base_uri": "https://localhost:8080/"
        },
        "id": "EBVvv3yYrSby",
        "outputId": "7a719e03-c8ce-45ea-b87d-ac77ce3f7b5e"
      },
      "execution_count": null,
      "outputs": [
        {
          "output_type": "execute_result",
          "data": {
            "text/plain": [
              "array([False, False,  True])"
            ]
          },
          "metadata": {},
          "execution_count": 119
        }
      ]
    },
    {
      "cell_type": "markdown",
      "source": [
        "## Aggregate function"
      ],
      "metadata": {
        "id": "RP7A7AhLrmtc"
      }
    },
    {
      "cell_type": "code",
      "source": [
        "a = [1,2,4]\n",
        "b = [2,4,4]\n",
        "c = [1,2,4]\n",
        "print(\"sum\", np.sum(a))\n",
        "print(\"Minimum value: \", np.min(a))\n",
        "print(\"Mean: \", np.mean(a))\n",
        "print(\"Median: \", np.median(a))\n",
        "print(\"Standard Deviation: \", np.std(a))\n"
      ],
      "metadata": {
        "colab": {
          "base_uri": "https://localhost:8080/"
        },
        "id": "wLtbZAyjropR",
        "outputId": "83a03031-2ef3-42df-aa85-012087cf9e7e"
      },
      "execution_count": null,
      "outputs": [
        {
          "output_type": "stream",
          "name": "stdout",
          "text": [
            "sum 7\n",
            "Minimum value:  1\n",
            "Mean:  2.3333333333333335\n",
            "Median:  2.0\n",
            "Standard Deviation:  1.247219128924647\n"
          ]
        }
      ]
    },
    {
      "cell_type": "markdown",
      "source": [
        "## Concept of Broadcasting"
      ],
      "metadata": {
        "id": "OB5AtxY8sSFR"
      }
    },
    {
      "cell_type": "code",
      "source": [
        "import numpy as np\n",
        "a = np.array([[0,0,0],[1,2,3],[4,5,6],[5,6,7]])\n",
        "b = np.array([[0,1,2]])\n",
        "print(\"First array: \\n\",a,\"\\n\")\n",
        "print(\"second array: \\n\",b,\"\\n\")\n",
        "print(\"Third array :\\n\",c,\"\\n\")\n",
        "print(\"First Array + Second Array: \\n\",a+b,\"\\n\")"
      ],
      "metadata": {
        "colab": {
          "base_uri": "https://localhost:8080/"
        },
        "id": "oQY27gdBrlL_",
        "outputId": "b68ca7d0-dc4c-4cf4-9bce-8ffb24073af8"
      },
      "execution_count": null,
      "outputs": [
        {
          "output_type": "stream",
          "name": "stdout",
          "text": [
            "First array: \n",
            " [[0 0 0]\n",
            " [1 2 3]\n",
            " [4 5 6]\n",
            " [5 6 7]] \n",
            "\n",
            "second array: \n",
            " [[0 1 2]] \n",
            "\n",
            "Third array :\n",
            " [1, 2, 4] \n",
            "\n",
            "First Array + Second Array: \n",
            " [[0 1 2]\n",
            " [1 3 5]\n",
            " [4 6 8]\n",
            " [5 7 9]] \n",
            "\n"
          ]
        }
      ]
    },
    {
      "cell_type": "markdown",
      "source": [
        "## Indexing and slicing in python"
      ],
      "metadata": {
        "id": "rwZOrsbVukc1"
      }
    },
    {
      "cell_type": "code",
      "source": [
        "a = ['m','o','n','t','h','l','y',' ','p','y','t','h','o','n']\n",
        "a[2:9]"
      ],
      "metadata": {
        "colab": {
          "base_uri": "https://localhost:8080/"
        },
        "id": "5on4lpMLreZy",
        "outputId": "356c1e6a-1c98-46f9-ceb4-146b039d0cb2"
      },
      "execution_count": null,
      "outputs": [
        {
          "output_type": "execute_result",
          "data": {
            "text/plain": [
              "['n', 't', 'h', 'l', 'y', ' ', 'p']"
            ]
          },
          "metadata": {},
          "execution_count": 122
        }
      ]
    },
    {
      "cell_type": "code",
      "source": [
        "a = np.array([[1,2,3],[4,5,6],[7,8,9]])\n",
        "a[0]\n",
        "a[:1]\n",
        "print(a)\n",
        "a[:1,1:]"
      ],
      "metadata": {
        "colab": {
          "base_uri": "https://localhost:8080/"
        },
        "id": "0csykwF3u6Vh",
        "outputId": "779b11d2-b153-43dc-93d5-0548337c9fad"
      },
      "execution_count": null,
      "outputs": [
        {
          "output_type": "stream",
          "name": "stdout",
          "text": [
            "[[1 2 3]\n",
            " [4 5 6]\n",
            " [7 8 9]]\n"
          ]
        },
        {
          "output_type": "execute_result",
          "data": {
            "text/plain": [
              "array([[2, 3]])"
            ]
          },
          "metadata": {},
          "execution_count": 127
        }
      ]
    },
    {
      "cell_type": "code",
      "source": [
        "a.size"
      ],
      "metadata": {
        "colab": {
          "base_uri": "https://localhost:8080/"
        },
        "id": "cHFI9r_Gvbac",
        "outputId": "86ebc8da-8d19-464d-cec4-e2564d760283"
      },
      "execution_count": null,
      "outputs": [
        {
          "output_type": "execute_result",
          "data": {
            "text/plain": [
              "9"
            ]
          },
          "metadata": {},
          "execution_count": 129
        }
      ]
    },
    {
      "cell_type": "code",
      "source": [
        "a[:1][0][1:]"
      ],
      "metadata": {
        "colab": {
          "base_uri": "https://localhost:8080/"
        },
        "id": "s4N086wnvhDr",
        "outputId": "d662fecf-5d16-43bc-e33b-0d5963b44190"
      },
      "execution_count": null,
      "outputs": [
        {
          "output_type": "execute_result",
          "data": {
            "text/plain": [
              "array([2, 3])"
            ]
          },
          "metadata": {},
          "execution_count": 130
        }
      ]
    },
    {
      "cell_type": "markdown",
      "source": [
        "## Array manipulation in python"
      ],
      "metadata": {
        "id": "GfXHgB8qvxSB"
      }
    },
    {
      "cell_type": "code",
      "source": [
        "a = np.array([1,2,3])\n",
        "b = np.array([4,5,6])\n",
        "np.concatenate((a,b))"
      ],
      "metadata": {
        "colab": {
          "base_uri": "https://localhost:8080/"
        },
        "id": "cOFvJEn0v1_f",
        "outputId": "e1a71eda-3ece-4faa-8ee6-20cc69661333"
      },
      "execution_count": null,
      "outputs": [
        {
          "output_type": "execute_result",
          "data": {
            "text/plain": [
              "array([1, 2, 3, 4, 5, 6])"
            ]
          },
          "metadata": {},
          "execution_count": 132
        }
      ]
    },
    {
      "cell_type": "code",
      "source": [
        "#stact array row:wise: horizontal\n",
        "np.hstack((a,b))"
      ],
      "metadata": {
        "colab": {
          "base_uri": "https://localhost:8080/"
        },
        "id": "l77cwq4VwQH1",
        "outputId": "c8db8d07-63ac-4f12-8286-0a373fdca412"
      },
      "execution_count": null,
      "outputs": [
        {
          "output_type": "execute_result",
          "data": {
            "text/plain": [
              "array([1, 2, 3, 4, 5, 6])"
            ]
          },
          "metadata": {},
          "execution_count": 133
        }
      ]
    },
    {
      "cell_type": "code",
      "source": [
        "#stack array row-wise: vertically\n",
        "print(a)\n",
        "print(b)\n",
        "np.vstack((a,b))"
      ],
      "metadata": {
        "colab": {
          "base_uri": "https://localhost:8080/"
        },
        "id": "WILhkOeMwcAm",
        "outputId": "5606ea88-bf56-4819-b6ad-2b3567749069"
      },
      "execution_count": null,
      "outputs": [
        {
          "output_type": "stream",
          "name": "stdout",
          "text": [
            "[1 2 3]\n",
            "[4 5 6]\n"
          ]
        },
        {
          "output_type": "execute_result",
          "data": {
            "text/plain": [
              "array([[1, 2, 3],\n",
              "       [4, 5, 6]])"
            ]
          },
          "metadata": {},
          "execution_count": 135
        }
      ]
    },
    {
      "cell_type": "code",
      "source": [
        "i = np.arange(0,100,5)\n",
        "print(i)\n",
        "print(i.size)\n",
        "i.shape = 5,2,2\n",
        "print(i)"
      ],
      "metadata": {
        "colab": {
          "base_uri": "https://localhost:8080/"
        },
        "id": "1SuZixduyBXg",
        "outputId": "132624a1-f18b-4e23-f6b9-bc38e5ac737d"
      },
      "execution_count": null,
      "outputs": [
        {
          "output_type": "stream",
          "name": "stdout",
          "text": [
            "[ 0  5 10 15 20 25 30 35 40 45 50 55 60 65 70 75 80 85 90 95]\n",
            "20\n",
            "[[[ 0  5]\n",
            "  [10 15]]\n",
            "\n",
            " [[20 25]\n",
            "  [30 35]]\n",
            "\n",
            " [[40 45]\n",
            "  [50 55]]\n",
            "\n",
            " [[60 65]\n",
            "  [70 75]]\n",
            "\n",
            " [[80 85]\n",
            "  [90 95]]]\n"
          ]
        }
      ]
    },
    {
      "cell_type": "code",
      "source": [
        "i.shape = (2,5,2)\n",
        "print(i)\n",
        "np.hsplit(i,5)"
      ],
      "metadata": {
        "colab": {
          "base_uri": "https://localhost:8080/"
        },
        "id": "gK4lB983yjnb",
        "outputId": "757df76a-9c30-4715-c2f8-594b90ed5c2a"
      },
      "execution_count": null,
      "outputs": [
        {
          "output_type": "stream",
          "name": "stdout",
          "text": [
            "[[[ 0  5]\n",
            "  [10 15]\n",
            "  [20 25]\n",
            "  [30 35]\n",
            "  [40 45]]\n",
            "\n",
            " [[50 55]\n",
            "  [60 65]\n",
            "  [70 75]\n",
            "  [80 85]\n",
            "  [90 95]]]\n"
          ]
        },
        {
          "output_type": "execute_result",
          "data": {
            "text/plain": [
              "[array([[[ 0,  5]],\n",
              " \n",
              "        [[50, 55]]]),\n",
              " array([[[10, 15]],\n",
              " \n",
              "        [[60, 65]]]),\n",
              " array([[[20, 25]],\n",
              " \n",
              "        [[70, 75]]]),\n",
              " array([[[30, 35]],\n",
              " \n",
              "        [[80, 85]]]),\n",
              " array([[[40, 45]],\n",
              " \n",
              "        [[90, 95]]])]"
            ]
          },
          "metadata": {},
          "execution_count": 160
        }
      ]
    }
  ]
}